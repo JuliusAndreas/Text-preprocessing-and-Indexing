{
  "cells": [
    {
      "cell_type": "markdown",
      "metadata": {
        "id": "RafuduRbqY84"
      },
      "source": [
        "# Imports"
      ]
    },
    {
      "cell_type": "code",
      "execution_count": null,
      "metadata": {
        "id": "iJ_ujg19puCh"
      },
      "outputs": [],
      "source": [
        "import pandas as pd\n",
        "import csv\n",
        "import math"
      ]
    },
    {
      "cell_type": "markdown",
      "metadata": {
        "id": "hOoUNsJLqf_z"
      },
      "source": [
        "# Read File"
      ]
    },
    {
      "cell_type": "code",
      "execution_count": null,
      "metadata": {
        "colab": {
          "base_uri": "https://localhost:8080/"
        },
        "id": "6cavmukITpgP",
        "outputId": "ada10e32-6c73-4b27-ca8b-c36fd6ed7ab3"
      },
      "outputs": [
        {
          "output_type": "stream",
          "name": "stdout",
          "text": [
            "Mounted at /content/drive\n"
          ]
        }
      ],
      "source": [
        "from google.colab import drive\n",
        "drive.mount('/content/drive')"
      ]
    },
    {
      "cell_type": "code",
      "execution_count": null,
      "metadata": {
        "id": "BfhhL9t03YvP",
        "colab": {
          "base_uri": "https://localhost:8080/"
        },
        "outputId": "38fdcbb6-659b-406f-e561-555bc634605e"
      },
      "outputs": [
        {
          "output_type": "stream",
          "name": "stdout",
          "text": [
            "                                               title                date  \\\n",
            "0                               بهترین درسهای زندگی‎          ۲ دی ۱۳۹۸    \n",
            "1                                 از سلاجقه تا صفویه          ۱ دی ۱۳۹۸    \n",
            "2                                      سرگذشت رضاشاه        ۲۹ آذر ۱۳۹۸    \n",
            "3                     سیری نوین در فرگشت و اسرار مغز        ۲۸ آذر ۱۳۹۸    \n",
            "4                                      آسمان پرستاره        ۲۶ آذر ۱۳۹۸    \n",
            "...                                              ...                 ...   \n",
            "2819                            آشنایی با علم رباتیک   ۱۲ اردیبهشت ۱۳۸۸    \n",
            "2820  دانلود مجله الکترونیکی برنامه نویس – شماره اول   ۱۱ اردیبهشت ۱۳۸۸    \n",
            "2821                      داستان خواستگاری یا انتخاب   ۱۱ اردیبهشت ۱۳۸۸    \n",
            "2822             آشنایی با قطعات سخت افزاری کامپیوتر   ۱۱ اردیبهشت ۱۳۸۸    \n",
            "2823                   الکترونیکی آموزش ورد ( word )   ۱۱ اردیبهشت ۱۳۸۸    \n",
            "\n",
            "                                                content           category  \\\n",
            "0      تی دی جیکس یک کشیش، نویسنده، سخنران آمریکایی ...          روانشناسی   \n",
            "1      کتاب حاضر که اینک در دسترس خوانندگان محترم قر...        تاریخ ایران   \n",
            "2      دکتر فتح الله بینا تحصیلات خود را در رشته پزش...        تاریخ ایران   \n",
            "3      مجموعه پیش رو مطالبیست که در گروه Evolution ت...         علم و دانش   \n",
            "4      کتاب آسمان پرستاره نوشته‌ی کتی هایدن، به زبان...  کودکان و نوجوانان   \n",
            "...                                                 ...                ...   \n",
            "2819                                                NaN             رباتیک   \n",
            "2820                                                NaN       برنامه نویسی   \n",
            "2821   کتابی که می خواهید مطالعه کنید به صورت فیلم ن...      داستان و رمان   \n",
            "2822                                                NaN          سخت افزار   \n",
            "2823                                                NaN               آفیس   \n",
            "\n",
            "                             autor     comments  \n",
            "0                     سارا رزولت    بدون دیدگاه  \n",
            "1               نصرت الله مشکوتی    بدون دیدگاه  \n",
            "2                  فتح الله بینا    بدون دیدگاه  \n",
            "3                   مانی منوچهری    بدون دیدگاه  \n",
            "4                      کتی هایدن    بدون دیدگاه  \n",
            "...                            ...          ...  \n",
            "2819                  شبنم عاقلی      ۲۱ دیدگاه  \n",
            "2820            Barnamenevis.org      ۱۰ دیدگاه  \n",
            "2821                 م. مودب پور      ۱۲ دیدگاه  \n",
            "2822                    پارس بوک      ۵۲ دیدگاه  \n",
            "2823               امین مهدی پور      ۳۸ دیدگاه  \n",
            "\n",
            "[2824 rows x 6 columns]\n"
          ]
        }
      ],
      "source": [
        "df = pd.read_excel('/content/drive/MyDrive/final_books.xlsx')\n",
        "row = [2]\n",
        "print(df)\n",
        "df = df.get('content')"
      ]
    },
    {
      "cell_type": "code",
      "source": [
        "df"
      ],
      "metadata": {
        "colab": {
          "base_uri": "https://localhost:8080/"
        },
        "id": "x3N3VnTwIXj7",
        "outputId": "e1b95bb0-9928-4212-e0df-cc628707cfc0"
      },
      "execution_count": null,
      "outputs": [
        {
          "output_type": "execute_result",
          "data": {
            "text/plain": [
              "0        تی دی جیکس یک کشیش، نویسنده، سخنران آمریکایی ...\n",
              "1        کتاب حاضر که اینک در دسترس خوانندگان محترم قر...\n",
              "2        دکتر فتح الله بینا تحصیلات خود را در رشته پزش...\n",
              "3        مجموعه پیش رو مطالبیست که در گروه Evolution ت...\n",
              "4        کتاب آسمان پرستاره نوشته‌ی کتی هایدن، به زبان...\n",
              "                              ...                        \n",
              "2819                                                  NaN\n",
              "2820                                                  NaN\n",
              "2821     کتابی که می خواهید مطالعه کنید به صورت فیلم ن...\n",
              "2822                                                  NaN\n",
              "2823                                                  NaN\n",
              "Name: content, Length: 2824, dtype: object"
            ]
          },
          "metadata": {},
          "execution_count": 7
        }
      ]
    },
    {
      "cell_type": "markdown",
      "metadata": {
        "id": "uelPIUqP5y32"
      },
      "source": [
        "# install hazm"
      ]
    },
    {
      "cell_type": "code",
      "execution_count": null,
      "metadata": {
        "id": "L3DGoSZZy2h_",
        "colab": {
          "base_uri": "https://localhost:8080/"
        },
        "outputId": "85ae231d-4f5e-40af-d3b0-144ecaebcd7b"
      },
      "outputs": [
        {
          "output_type": "stream",
          "name": "stdout",
          "text": [
            "Collecting hazm\n",
            "  Downloading hazm-0.7.0-py3-none-any.whl (316 kB)\n",
            "\u001b[K     |████████████████████████████████| 316 kB 5.0 MB/s \n",
            "\u001b[?25hCollecting libwapiti>=0.2.1\n",
            "  Downloading libwapiti-0.2.1.tar.gz (233 kB)\n",
            "\u001b[K     |████████████████████████████████| 233 kB 48.4 MB/s \n",
            "\u001b[?25hCollecting nltk==3.3\n",
            "  Downloading nltk-3.3.0.zip (1.4 MB)\n",
            "\u001b[K     |████████████████████████████████| 1.4 MB 41.3 MB/s \n",
            "\u001b[?25hRequirement already satisfied: six in /usr/local/lib/python3.7/dist-packages (from nltk==3.3->hazm) (1.15.0)\n",
            "Building wheels for collected packages: nltk, libwapiti\n",
            "  Building wheel for nltk (setup.py) ... \u001b[?25l\u001b[?25hdone\n",
            "  Created wheel for nltk: filename=nltk-3.3-py3-none-any.whl size=1394490 sha256=a4e6caef50067dfa4ba5837f39a3207bb6c9384b759809020543395f9345c7c1\n",
            "  Stored in directory: /root/.cache/pip/wheels/9b/fd/0c/d92302c876e5de87ebd7fc0979d82edb93e2d8d768bf71fac4\n",
            "  Building wheel for libwapiti (setup.py) ... \u001b[?25l\u001b[?25hdone\n",
            "  Created wheel for libwapiti: filename=libwapiti-0.2.1-cp37-cp37m-linux_x86_64.whl size=154597 sha256=b1a081e9cb01e649f28f8b830542d61f2315e2b19e774131a1a158123e5e6142\n",
            "  Stored in directory: /root/.cache/pip/wheels/ab/b2/5b/0fe4b8f5c0e65341e8ea7bb3f4a6ebabfe8b1ac31322392dbf\n",
            "Successfully built nltk libwapiti\n",
            "Installing collected packages: nltk, libwapiti, hazm\n",
            "  Attempting uninstall: nltk\n",
            "    Found existing installation: nltk 3.2.5\n",
            "    Uninstalling nltk-3.2.5:\n",
            "      Successfully uninstalled nltk-3.2.5\n",
            "Successfully installed hazm-0.7.0 libwapiti-0.2.1 nltk-3.3\n"
          ]
        }
      ],
      "source": [
        "!pip install hazm"
      ]
    },
    {
      "cell_type": "markdown",
      "metadata": {
        "id": "g6RaAKQC59PX"
      },
      "source": [
        "# Normalization"
      ]
    },
    {
      "cell_type": "code",
      "execution_count": null,
      "metadata": {
        "id": "JYZApFDT6Gk8"
      },
      "outputs": [],
      "source": [
        "import hazm"
      ]
    },
    {
      "cell_type": "code",
      "execution_count": null,
      "metadata": {
        "id": "-XK33FBy_FOQ"
      },
      "outputs": [],
      "source": [
        "informalNormalizer = hazm.InformalNormalizer"
      ]
    },
    {
      "cell_type": "code",
      "execution_count": null,
      "metadata": {
        "id": "6f5_63gvDr5F",
        "colab": {
          "base_uri": "https://localhost:8080/"
        },
        "outputId": "eb0856a7-e2ec-48df-f05f-7147468ef5ab"
      },
      "outputs": [
        {
          "output_type": "execute_result",
          "data": {
            "text/plain": [
              "0     تی دی جیکس یک کشیش، نویسنده، سخنران آمریکایی ...\n",
              "1     کتاب حاضر که اینک در دسترس خوانندگان محترم قر...\n",
              "2     دکتر فتح الله بینا تحصیلات خود را در رشته پزش...\n",
              "3     مجموعه پیش رو مطالبیست که در گروه Evolution ت...\n",
              "4     کتاب آسمان پرستاره نوشته‌ی کتی هایدن، به زبان...\n",
              "Name: content, dtype: object"
            ]
          },
          "metadata": {},
          "execution_count": 7
        }
      ],
      "source": [
        "normalizer = hazm.Normalizer()\n",
        "\n",
        "df = df.apply(lambda x: normalizer.character_refinement(normalizer.affix_spacing(str(x))))\n",
        "df.head()"
      ]
    },
    {
      "cell_type": "code",
      "execution_count": null,
      "metadata": {
        "id": "pkogcZUeClZo",
        "colab": {
          "base_uri": "https://localhost:8080/"
        },
        "outputId": "10902216-b8f9-4996-9bd2-02adcafee202"
      },
      "outputs": [
        {
          "output_type": "execute_result",
          "data": {
            "text/plain": [
              "0     تی دی جیکس یک کشیش، نویسنده، سخنران آمریکایی ...\n",
              "1     کتاب حاضر که اینک در دسترس خوانندگان محترم قر...\n",
              "2     دکتر فتح الله بینا تحصیلات خود را در رشته پزش...\n",
              "3     مجموعه پیش رو مطالبیست که در گروه Evolution ت...\n",
              "4     کتاب آسمان پرستاره نوشته‌ی کتی هایدن، به زبان...\n",
              "Name: content, dtype: object"
            ]
          },
          "metadata": {},
          "execution_count": 8
        }
      ],
      "source": [
        "df = df.apply(lambda x: normalizer.normalize(str(x)))\n",
        "df.head()"
      ]
    },
    {
      "cell_type": "code",
      "execution_count": null,
      "metadata": {
        "id": "-dbjW0BbEMpJ",
        "colab": {
          "base_uri": "https://localhost:8080/"
        },
        "outputId": "faf815a9-08b5-4cdd-be26-171b4ca0357f"
      },
      "outputs": [
        {
          "output_type": "stream",
          "name": "stdout",
          "text": [
            "Cloning into 'persian-stopwords'...\n",
            "remote: Enumerating objects: 51, done.\u001b[K\n",
            "remote: Counting objects: 100% (9/9), done.\u001b[K\n",
            "remote: Compressing objects: 100% (4/4), done.\u001b[K\n",
            "remote: Total 51 (delta 7), reused 5 (delta 5), pack-reused 42\u001b[K\n",
            "Unpacking objects: 100% (51/51), done.\n"
          ]
        }
      ],
      "source": [
        "!git clone https://github.com/kharazi/persian-stopwords.git"
      ]
    },
    {
      "cell_type": "code",
      "execution_count": null,
      "metadata": {
        "id": "pqPzIyrXDJ1w",
        "colab": {
          "base_uri": "https://localhost:8080/",
          "height": 423
        },
        "outputId": "15d8c4c1-0bc0-460a-f68e-f3d01dac58a8"
      },
      "outputs": [
        {
          "output_type": "execute_result",
          "data": {
            "text/plain": [
              "                                                 tokens\n",
              "0     [تی, دی, جیکس, یک, کشیش, ،, نویسنده, ،, سخنران...\n",
              "1     [کتاب, حاضر, که, اینک, در, دسترس, خوانندگان, م...\n",
              "2     [دکتر, فتح, الله, بینا, تحصیلات, خود, را, در, ...\n",
              "3     [مجموعه, پیش, رو, مطالبیست, که, در, گروه, Evol...\n",
              "4     [کتاب, آسمان, پرستاره, نوشته‌ی, کتی, هایدن, ،,...\n",
              "...                                                 ...\n",
              "2819                                              [nan]\n",
              "2820                                              [nan]\n",
              "2821  [کتابی, که, می‌خواهید, مطالعه, کنید, به, صورت,...\n",
              "2822                                              [nan]\n",
              "2823                                              [nan]\n",
              "\n",
              "[2824 rows x 1 columns]"
            ],
            "text/html": [
              "\n",
              "  <div id=\"df-d0f117f6-c141-404d-b6c2-5ed43556c7bb\">\n",
              "    <div class=\"colab-df-container\">\n",
              "      <div>\n",
              "<style scoped>\n",
              "    .dataframe tbody tr th:only-of-type {\n",
              "        vertical-align: middle;\n",
              "    }\n",
              "\n",
              "    .dataframe tbody tr th {\n",
              "        vertical-align: top;\n",
              "    }\n",
              "\n",
              "    .dataframe thead th {\n",
              "        text-align: right;\n",
              "    }\n",
              "</style>\n",
              "<table border=\"1\" class=\"dataframe\">\n",
              "  <thead>\n",
              "    <tr style=\"text-align: right;\">\n",
              "      <th></th>\n",
              "      <th>tokens</th>\n",
              "    </tr>\n",
              "  </thead>\n",
              "  <tbody>\n",
              "    <tr>\n",
              "      <th>0</th>\n",
              "      <td>[تی, دی, جیکس, یک, کشیش, ،, نویسنده, ،, سخنران...</td>\n",
              "    </tr>\n",
              "    <tr>\n",
              "      <th>1</th>\n",
              "      <td>[کتاب, حاضر, که, اینک, در, دسترس, خوانندگان, م...</td>\n",
              "    </tr>\n",
              "    <tr>\n",
              "      <th>2</th>\n",
              "      <td>[دکتر, فتح, الله, بینا, تحصیلات, خود, را, در, ...</td>\n",
              "    </tr>\n",
              "    <tr>\n",
              "      <th>3</th>\n",
              "      <td>[مجموعه, پیش, رو, مطالبیست, که, در, گروه, Evol...</td>\n",
              "    </tr>\n",
              "    <tr>\n",
              "      <th>4</th>\n",
              "      <td>[کتاب, آسمان, پرستاره, نوشته‌ی, کتی, هایدن, ،,...</td>\n",
              "    </tr>\n",
              "    <tr>\n",
              "      <th>...</th>\n",
              "      <td>...</td>\n",
              "    </tr>\n",
              "    <tr>\n",
              "      <th>2819</th>\n",
              "      <td>[nan]</td>\n",
              "    </tr>\n",
              "    <tr>\n",
              "      <th>2820</th>\n",
              "      <td>[nan]</td>\n",
              "    </tr>\n",
              "    <tr>\n",
              "      <th>2821</th>\n",
              "      <td>[کتابی, که, می‌خواهید, مطالعه, کنید, به, صورت,...</td>\n",
              "    </tr>\n",
              "    <tr>\n",
              "      <th>2822</th>\n",
              "      <td>[nan]</td>\n",
              "    </tr>\n",
              "    <tr>\n",
              "      <th>2823</th>\n",
              "      <td>[nan]</td>\n",
              "    </tr>\n",
              "  </tbody>\n",
              "</table>\n",
              "<p>2824 rows × 1 columns</p>\n",
              "</div>\n",
              "      <button class=\"colab-df-convert\" onclick=\"convertToInteractive('df-d0f117f6-c141-404d-b6c2-5ed43556c7bb')\"\n",
              "              title=\"Convert this dataframe to an interactive table.\"\n",
              "              style=\"display:none;\">\n",
              "        \n",
              "  <svg xmlns=\"http://www.w3.org/2000/svg\" height=\"24px\"viewBox=\"0 0 24 24\"\n",
              "       width=\"24px\">\n",
              "    <path d=\"M0 0h24v24H0V0z\" fill=\"none\"/>\n",
              "    <path d=\"M18.56 5.44l.94 2.06.94-2.06 2.06-.94-2.06-.94-.94-2.06-.94 2.06-2.06.94zm-11 1L8.5 8.5l.94-2.06 2.06-.94-2.06-.94L8.5 2.5l-.94 2.06-2.06.94zm10 10l.94 2.06.94-2.06 2.06-.94-2.06-.94-.94-2.06-.94 2.06-2.06.94z\"/><path d=\"M17.41 7.96l-1.37-1.37c-.4-.4-.92-.59-1.43-.59-.52 0-1.04.2-1.43.59L10.3 9.45l-7.72 7.72c-.78.78-.78 2.05 0 2.83L4 21.41c.39.39.9.59 1.41.59.51 0 1.02-.2 1.41-.59l7.78-7.78 2.81-2.81c.8-.78.8-2.07 0-2.86zM5.41 20L4 18.59l7.72-7.72 1.47 1.35L5.41 20z\"/>\n",
              "  </svg>\n",
              "      </button>\n",
              "      \n",
              "  <style>\n",
              "    .colab-df-container {\n",
              "      display:flex;\n",
              "      flex-wrap:wrap;\n",
              "      gap: 12px;\n",
              "    }\n",
              "\n",
              "    .colab-df-convert {\n",
              "      background-color: #E8F0FE;\n",
              "      border: none;\n",
              "      border-radius: 50%;\n",
              "      cursor: pointer;\n",
              "      display: none;\n",
              "      fill: #1967D2;\n",
              "      height: 32px;\n",
              "      padding: 0 0 0 0;\n",
              "      width: 32px;\n",
              "    }\n",
              "\n",
              "    .colab-df-convert:hover {\n",
              "      background-color: #E2EBFA;\n",
              "      box-shadow: 0px 1px 2px rgba(60, 64, 67, 0.3), 0px 1px 3px 1px rgba(60, 64, 67, 0.15);\n",
              "      fill: #174EA6;\n",
              "    }\n",
              "\n",
              "    [theme=dark] .colab-df-convert {\n",
              "      background-color: #3B4455;\n",
              "      fill: #D2E3FC;\n",
              "    }\n",
              "\n",
              "    [theme=dark] .colab-df-convert:hover {\n",
              "      background-color: #434B5C;\n",
              "      box-shadow: 0px 1px 3px 1px rgba(0, 0, 0, 0.15);\n",
              "      filter: drop-shadow(0px 1px 2px rgba(0, 0, 0, 0.3));\n",
              "      fill: #FFFFFF;\n",
              "    }\n",
              "  </style>\n",
              "\n",
              "      <script>\n",
              "        const buttonEl =\n",
              "          document.querySelector('#df-d0f117f6-c141-404d-b6c2-5ed43556c7bb button.colab-df-convert');\n",
              "        buttonEl.style.display =\n",
              "          google.colab.kernel.accessAllowed ? 'block' : 'none';\n",
              "\n",
              "        async function convertToInteractive(key) {\n",
              "          const element = document.querySelector('#df-d0f117f6-c141-404d-b6c2-5ed43556c7bb');\n",
              "          const dataTable =\n",
              "            await google.colab.kernel.invokeFunction('convertToInteractive',\n",
              "                                                     [key], {});\n",
              "          if (!dataTable) return;\n",
              "\n",
              "          const docLinkHtml = 'Like what you see? Visit the ' +\n",
              "            '<a target=\"_blank\" href=https://colab.research.google.com/notebooks/data_table.ipynb>data table notebook</a>'\n",
              "            + ' to learn more about interactive tables.';\n",
              "          element.innerHTML = '';\n",
              "          dataTable['output_type'] = 'display_data';\n",
              "          await google.colab.output.renderOutput(dataTable, element);\n",
              "          const docLink = document.createElement('div');\n",
              "          docLink.innerHTML = docLinkHtml;\n",
              "          element.appendChild(docLink);\n",
              "        }\n",
              "      </script>\n",
              "    </div>\n",
              "  </div>\n",
              "  "
            ]
          },
          "metadata": {},
          "execution_count": 10
        }
      ],
      "source": [
        "word_tokenize = hazm.word_tokenize\n",
        "token_df = pd.DataFrame()\n",
        "token_df['tokens'] =df.apply(lambda x: word_tokenize(x))\n",
        "token_df"
      ]
    },
    {
      "cell_type": "code",
      "execution_count": null,
      "metadata": {
        "id": "ku29l7yvERHp"
      },
      "outputs": [],
      "source": [
        "chars = []\n",
        "with open('/content/persian-stopwords/chars', 'r') as f:\n",
        "    for line in f:\n",
        "      chars.append(line.strip())"
      ]
    },
    {
      "cell_type": "code",
      "execution_count": null,
      "metadata": {
        "id": "ObsVkIpNFIVL"
      },
      "outputs": [],
      "source": [
        "def remove_stopwords(tokens):\n",
        "  sw = hazm.utils.stopwords_list()\n",
        "  return [item for item in tokens if item not in chars and item not in sw]"
      ]
    },
    {
      "cell_type": "code",
      "execution_count": null,
      "metadata": {
        "id": "nQKxUqDrFe_K",
        "colab": {
          "base_uri": "https://localhost:8080/"
        },
        "outputId": "bc28fac1-0ddd-406a-f7dc-d5e46cdd6b7c"
      },
      "outputs": [
        {
          "output_type": "execute_result",
          "data": {
            "text/plain": [
              "0       [تی, دی, جیکس, کشیش, نویسنده, سخنران, آمریکایی...\n",
              "1       [کتاب, حاضر, اینک, دسترس, خوانندگان, محترم, قر...\n",
              "2       [دکتر, فتح, الله, بینا, تحصیلات, رشته, پزشکی, ...\n",
              "3       [مجموعه, مطالبیست, گروه, Evolution, توسط, اینج...\n",
              "4       [کتاب, آسمان, پرستاره, نوشته‌ی, کتی, هایدن, زب...\n",
              "                              ...                        \n",
              "2819                                                [nan]\n",
              "2820                                                [nan]\n",
              "2821    [کتابی, می‌خواهید, مطالعه, صورت, فیلم, نامه, م...\n",
              "2822                                                [nan]\n",
              "2823                                                [nan]\n",
              "Name: without-stop-word, Length: 2824, dtype: object"
            ]
          },
          "metadata": {},
          "execution_count": 13
        }
      ],
      "source": [
        "token_df['without-stop-word'] = token_df['tokens'].apply(lambda x: remove_stopwords(x))\n",
        "token_df['without-stop-word']"
      ]
    },
    {
      "cell_type": "markdown",
      "metadata": {
        "id": "qs8sbxPToBeR"
      },
      "source": [
        "# lemmatizer"
      ]
    },
    {
      "cell_type": "code",
      "execution_count": null,
      "metadata": {
        "id": "6Mon5go2DbJ2"
      },
      "outputs": [],
      "source": [
        "def stem(tokens):\n",
        "  stemmer = hazm.Stemmer()\n",
        "  return [stemmer.stem(item) for item in tokens]"
      ]
    },
    {
      "cell_type": "code",
      "execution_count": null,
      "metadata": {
        "id": "zB-A2hCQhbmP"
      },
      "outputs": [],
      "source": [
        "def lem(tokens):\n",
        "  lemmatizer = hazm.Lemmatizer()\n",
        "  return [lemmatizer.lemmatize(x) for x in tokens]"
      ]
    },
    {
      "cell_type": "code",
      "execution_count": null,
      "metadata": {
        "id": "4mpi0VbvD7PT",
        "colab": {
          "base_uri": "https://localhost:8080/"
        },
        "outputId": "7674d12d-a1d4-479b-dfd6-856a20b3cf89"
      },
      "outputs": [
        {
          "output_type": "execute_result",
          "data": {
            "text/plain": [
              "0    [ت, د, جیکس, کش, نویسنده, سخنر, آمریکا, سمینار...\n",
              "1    [کتاب, حاضر, اینک, دسترس, خوانندگ, محتر, قرار,...\n",
              "2    [دک, فتح, الله, بینا, تحصیل, رشته, پزشک, دنبال...\n",
              "3    [مجموعه, مطالبیس, گروه, Evolution, توسط, اینجا...\n",
              "4    [کتاب, آس, پرستاره, نوشته, کت, هایدن, زبان, سا...\n",
              "Name: stemmed, dtype: object"
            ]
          },
          "metadata": {},
          "execution_count": 16
        }
      ],
      "source": [
        "token_df['stemmed'] = token_df['without-stop-word'].apply(lambda x: stem(x))\n",
        "token_df['stemmed'].head()"
      ]
    },
    {
      "cell_type": "code",
      "execution_count": null,
      "metadata": {
        "id": "bL40tvx0Haop",
        "colab": {
          "base_uri": "https://localhost:8080/"
        },
        "outputId": "8f8cd6b4-3327-4b33-cd98-9a6410a58994"
      },
      "outputs": [
        {
          "output_type": "execute_result",
          "data": {
            "text/plain": [
              "0    [ت, د, جیکس, کش, نویسنده, سخنر, آمریکا, سمینار...\n",
              "1    [کتاب, حاضر, اینک, دسترس, خوانندگ, محتر, قرار,...\n",
              "2    [دک, فتح, الله, بینا, تحصیل, رشته, پزشک, دنبال...\n",
              "3    [مجموعه, مطالبیس, گروه, Evolution, توسط, اینجا...\n",
              "4    [کتاب, آس, پرستاره, نوشته, کت, هایدن, زبان, سا...\n",
              "Name: lemmetized, dtype: object"
            ]
          },
          "metadata": {},
          "execution_count": 17
        }
      ],
      "source": [
        "token_df['lemmetized'] = token_df['stemmed'].apply(lambda x: lem(x))\n",
        "token_df['lemmetized'].head()"
      ]
    },
    {
      "cell_type": "markdown",
      "source": [
        "# Inverted Index \n",
        "after lemmatization\n"
      ],
      "metadata": {
        "id": "yRRG84eWFDXZ"
      }
    },
    {
      "cell_type": "code",
      "source": [
        "docs = token_df[\"lemmetized\"].tolist()\n",
        "index_map = {}\n",
        "for doc in docs:\n",
        "  doc_index = docs.index(doc) + 1\n",
        "  doc = list(set(doc))\n",
        "  for token in doc:\n",
        "    if token not in index_map.keys():\n",
        "      index_map[token] = [doc_index,]\n",
        "    else: \n",
        "      index_map[token].append(doc_index)"
      ],
      "metadata": {
        "id": "1idxhngID-Fc"
      },
      "execution_count": null,
      "outputs": []
    },
    {
      "cell_type": "markdown",
      "source": [
        "write output of inverted index to a csv file"
      ],
      "metadata": {
        "id": "d6SMToyAMEML"
      }
    },
    {
      "cell_type": "code",
      "source": [
        "with open(\"/content/II_lem_output.csv\", 'w', newline='') as output_file:\n",
        "  csvwriter = csv.writer(output_file)\n",
        "  for key in index_map.keys():\n",
        "    row = []\n",
        "    row.append(key)\n",
        "    for i in index_map[key]:\n",
        "      row.append(i)\n",
        "    csvwriter.writerow(row)"
      ],
      "metadata": {
        "id": "ef74sDuTLRvC"
      },
      "execution_count": null,
      "outputs": []
    },
    {
      "cell_type": "markdown",
      "source": [
        "# Inverted Index\n",
        "after stemming"
      ],
      "metadata": {
        "id": "nKYMg7HgRuDQ"
      }
    },
    {
      "cell_type": "code",
      "source": [
        "docs = token_df[\"stemmed\"].tolist()\n",
        "index_map = {}\n",
        "for doc in docs:\n",
        "  doc_index = docs.index(doc) + 1\n",
        "  doc = list(set(doc))\n",
        "  for token in doc:\n",
        "    if token not in index_map.keys():\n",
        "      index_map[token] = [doc_index,]\n",
        "    else: \n",
        "      index_map[token].append(doc_index)"
      ],
      "metadata": {
        "id": "cdVz2gl0R1E1"
      },
      "execution_count": null,
      "outputs": []
    },
    {
      "cell_type": "markdown",
      "source": [
        "write output of inverted index to a csv file"
      ],
      "metadata": {
        "id": "DqSD96DFR8zJ"
      }
    },
    {
      "cell_type": "code",
      "source": [
        "with open(\"/content/II_stm_output.csv\", 'w', newline='') as output_file:\n",
        "  csvwriter = csv.writer(output_file)\n",
        "  for key in index_map.keys():\n",
        "    row = []\n",
        "    row.append(key)\n",
        "    for i in index_map[key]:\n",
        "      row.append(i)\n",
        "    csvwriter.writerow(row)"
      ],
      "metadata": {
        "id": "dlbj9dWnSBue"
      },
      "execution_count": null,
      "outputs": []
    },
    {
      "cell_type": "markdown",
      "source": [
        "# TF_IDF"
      ],
      "metadata": {
        "id": "fmF5MA6Qd9VS"
      }
    },
    {
      "cell_type": "markdown",
      "source": [
        "computing idf for each token"
      ],
      "metadata": {
        "id": "Gk_VAFswg0UX"
      }
    },
    {
      "cell_type": "code",
      "source": [
        "doc_count = token_df.shape[0]\n",
        "idf_dict = {}\n",
        "for key in index_map.keys():\n",
        "  idf_dict[key] = math.log10(doc_count/(len(index_map[key])))"
      ],
      "metadata": {
        "id": "Ke_iA49GWHbM"
      },
      "execution_count": null,
      "outputs": []
    },
    {
      "cell_type": "markdown",
      "source": [
        "computing tf"
      ],
      "metadata": {
        "id": "xIuXwLJxikEP"
      }
    },
    {
      "cell_type": "code",
      "source": [
        "tf_dict = {}\n",
        "for key in idf_dict.keys():\n",
        "  for i in index_map[key]:\n",
        "    doc = docs[i-1]\n",
        "    tf = doc.count(key)\n",
        "    tf = 1 + math.log10(tf)\n",
        "    if i not in tf_dict.keys():\n",
        "      tf_dict[i] = [tf,]\n",
        "    else:\n",
        "      tf_dict[i].append(tf)\n",
        "  for i in (x for x in range(doc_count) if x not in index_map[key]):\n",
        "    tf = 0\n",
        "    if i not in tf_dict.keys():\n",
        "      tf_dict[i] = [tf,]\n",
        "    else:\n",
        "      tf_dict[i].append(tf)\n",
        "  "
      ],
      "metadata": {
        "id": "wkRIZALxfbrx"
      },
      "execution_count": null,
      "outputs": []
    },
    {
      "cell_type": "markdown",
      "source": [
        "calculating tf_idf"
      ],
      "metadata": {
        "id": "fV4uplKRrkym"
      }
    },
    {
      "cell_type": "code",
      "source": [
        "token_index = 0\n",
        "for key in idf_dict.keys():\n",
        "  idf = idf_dict[key]\n",
        "  for doc in tf_dict.keys():\n",
        "    tf_dict[doc][token_index] *= idf\n",
        "  token_index += 1\n",
        "\n",
        "# tf_dict contains tf_idf weights for all the tokens. Keys are doc_indx and \n",
        "# values are vectors of the doc."
      ],
      "metadata": {
        "id": "_tui0M7AmCg7"
      },
      "execution_count": null,
      "outputs": []
    },
    {
      "cell_type": "code",
      "source": [
        "tokens = list(index_map.keys())\n",
        "tf_idf = tf_dict[3]\n",
        "doc_tf_idf = dict(zip(tokens, tf_idf))\n",
        "with open('doc3_tf_idf.json', 'w') as file:\n",
        "    json.dump(doc_tf_idf, file, ensure_ascii=False)"
      ],
      "metadata": {
        "id": "BjTPWA8lCNTa"
      },
      "execution_count": null,
      "outputs": []
    },
    {
      "cell_type": "markdown",
      "source": [
        "# Queries"
      ],
      "metadata": {
        "id": "XCFmk69zudkz"
      }
    },
    {
      "cell_type": "code",
      "source": [
        "q = [\"معناهای فلسفی و جامعه شناسی جهانبینی و ایدئولوژی از دید متفکرین گوناگون\",\n",
        "     \"پادشاه بینی دراز اثر داینا مالک و پادشاه زرین دست اثر الکساندر چودسکو\",\n",
        "     \"انقلاب سفید یا انقلاب شاه و مردم نام یک سلسله تغییرات اقتصادی و اجتماعی\",\n",
        "     \"اسپهبد مرزبان بن رستم بن شهریار بن شروین بن رستم بن سرخاب بن قارن\",\n",
        "     \"پل کندی مورخ نامدار انگلیسی و استاد دانشگاه ییل آمریکا\",\n",
        "     \"بنیانگذار مکتب هیوهو نیتن ایچی ریو و نویسنده کتاب پنج حلقه\",\n",
        "     \"او ۲۶ کتاب مختلف نوشته‌است که به ۲۰ زبان زنده دنیا ترجمه شده‌است\",\n",
        "     \"هری پاتر و تالار اسرار دومین رمان از سری رمان‌های هری پاتر\",\n",
        "     \"املت و کوکو – ماست و دوغ – غذاهای سبک – سوپ ها – آش ها – چلو خورش – غذاهای شیرین\",\n",
        "     \"شوهر آهوخانم نوشته علی محمد افغانی\"]\n"
      ],
      "metadata": {
        "id": "mFAS5nHzs1NI"
      },
      "execution_count": null,
      "outputs": []
    },
    {
      "cell_type": "code",
      "source": [
        "qdf = pd.DataFrame(q, columns=[\"query\"])\n",
        "qdf.head()"
      ],
      "metadata": {
        "colab": {
          "base_uri": "https://localhost:8080/",
          "height": 206
        },
        "id": "6sgC2KIcysCp",
        "outputId": "8858ff66-f4dd-4569-ae12-fcf49d37b468"
      },
      "execution_count": null,
      "outputs": [
        {
          "output_type": "execute_result",
          "data": {
            "text/plain": [
              "                                               query\n",
              "0  معناهای فلسفی و جامعه شناسی جهانبینی و ایدئولو...\n",
              "1  پادشاه بینی دراز اثر داینا مالک و پادشاه زرین ...\n",
              "2  انقلاب سفید یا انقلاب شاه و مردم نام یک سلسله ...\n",
              "3  اسپهبد مرزبان بن رستم بن شهریار بن شروین بن رس...\n",
              "4  پل کندی مورخ نامدار انگلیسی و استاد دانشگاه یی..."
            ],
            "text/html": [
              "\n",
              "  <div id=\"df-5827201c-373f-472b-a10e-591b4dbef3c2\">\n",
              "    <div class=\"colab-df-container\">\n",
              "      <div>\n",
              "<style scoped>\n",
              "    .dataframe tbody tr th:only-of-type {\n",
              "        vertical-align: middle;\n",
              "    }\n",
              "\n",
              "    .dataframe tbody tr th {\n",
              "        vertical-align: top;\n",
              "    }\n",
              "\n",
              "    .dataframe thead th {\n",
              "        text-align: right;\n",
              "    }\n",
              "</style>\n",
              "<table border=\"1\" class=\"dataframe\">\n",
              "  <thead>\n",
              "    <tr style=\"text-align: right;\">\n",
              "      <th></th>\n",
              "      <th>query</th>\n",
              "    </tr>\n",
              "  </thead>\n",
              "  <tbody>\n",
              "    <tr>\n",
              "      <th>0</th>\n",
              "      <td>معناهای فلسفی و جامعه شناسی جهانبینی و ایدئولو...</td>\n",
              "    </tr>\n",
              "    <tr>\n",
              "      <th>1</th>\n",
              "      <td>پادشاه بینی دراز اثر داینا مالک و پادشاه زرین ...</td>\n",
              "    </tr>\n",
              "    <tr>\n",
              "      <th>2</th>\n",
              "      <td>انقلاب سفید یا انقلاب شاه و مردم نام یک سلسله ...</td>\n",
              "    </tr>\n",
              "    <tr>\n",
              "      <th>3</th>\n",
              "      <td>اسپهبد مرزبان بن رستم بن شهریار بن شروین بن رس...</td>\n",
              "    </tr>\n",
              "    <tr>\n",
              "      <th>4</th>\n",
              "      <td>پل کندی مورخ نامدار انگلیسی و استاد دانشگاه یی...</td>\n",
              "    </tr>\n",
              "  </tbody>\n",
              "</table>\n",
              "</div>\n",
              "      <button class=\"colab-df-convert\" onclick=\"convertToInteractive('df-5827201c-373f-472b-a10e-591b4dbef3c2')\"\n",
              "              title=\"Convert this dataframe to an interactive table.\"\n",
              "              style=\"display:none;\">\n",
              "        \n",
              "  <svg xmlns=\"http://www.w3.org/2000/svg\" height=\"24px\"viewBox=\"0 0 24 24\"\n",
              "       width=\"24px\">\n",
              "    <path d=\"M0 0h24v24H0V0z\" fill=\"none\"/>\n",
              "    <path d=\"M18.56 5.44l.94 2.06.94-2.06 2.06-.94-2.06-.94-.94-2.06-.94 2.06-2.06.94zm-11 1L8.5 8.5l.94-2.06 2.06-.94-2.06-.94L8.5 2.5l-.94 2.06-2.06.94zm10 10l.94 2.06.94-2.06 2.06-.94-2.06-.94-.94-2.06-.94 2.06-2.06.94z\"/><path d=\"M17.41 7.96l-1.37-1.37c-.4-.4-.92-.59-1.43-.59-.52 0-1.04.2-1.43.59L10.3 9.45l-7.72 7.72c-.78.78-.78 2.05 0 2.83L4 21.41c.39.39.9.59 1.41.59.51 0 1.02-.2 1.41-.59l7.78-7.78 2.81-2.81c.8-.78.8-2.07 0-2.86zM5.41 20L4 18.59l7.72-7.72 1.47 1.35L5.41 20z\"/>\n",
              "  </svg>\n",
              "      </button>\n",
              "      \n",
              "  <style>\n",
              "    .colab-df-container {\n",
              "      display:flex;\n",
              "      flex-wrap:wrap;\n",
              "      gap: 12px;\n",
              "    }\n",
              "\n",
              "    .colab-df-convert {\n",
              "      background-color: #E8F0FE;\n",
              "      border: none;\n",
              "      border-radius: 50%;\n",
              "      cursor: pointer;\n",
              "      display: none;\n",
              "      fill: #1967D2;\n",
              "      height: 32px;\n",
              "      padding: 0 0 0 0;\n",
              "      width: 32px;\n",
              "    }\n",
              "\n",
              "    .colab-df-convert:hover {\n",
              "      background-color: #E2EBFA;\n",
              "      box-shadow: 0px 1px 2px rgba(60, 64, 67, 0.3), 0px 1px 3px 1px rgba(60, 64, 67, 0.15);\n",
              "      fill: #174EA6;\n",
              "    }\n",
              "\n",
              "    [theme=dark] .colab-df-convert {\n",
              "      background-color: #3B4455;\n",
              "      fill: #D2E3FC;\n",
              "    }\n",
              "\n",
              "    [theme=dark] .colab-df-convert:hover {\n",
              "      background-color: #434B5C;\n",
              "      box-shadow: 0px 1px 3px 1px rgba(0, 0, 0, 0.15);\n",
              "      filter: drop-shadow(0px 1px 2px rgba(0, 0, 0, 0.3));\n",
              "      fill: #FFFFFF;\n",
              "    }\n",
              "  </style>\n",
              "\n",
              "      <script>\n",
              "        const buttonEl =\n",
              "          document.querySelector('#df-5827201c-373f-472b-a10e-591b4dbef3c2 button.colab-df-convert');\n",
              "        buttonEl.style.display =\n",
              "          google.colab.kernel.accessAllowed ? 'block' : 'none';\n",
              "\n",
              "        async function convertToInteractive(key) {\n",
              "          const element = document.querySelector('#df-5827201c-373f-472b-a10e-591b4dbef3c2');\n",
              "          const dataTable =\n",
              "            await google.colab.kernel.invokeFunction('convertToInteractive',\n",
              "                                                     [key], {});\n",
              "          if (!dataTable) return;\n",
              "\n",
              "          const docLinkHtml = 'Like what you see? Visit the ' +\n",
              "            '<a target=\"_blank\" href=https://colab.research.google.com/notebooks/data_table.ipynb>data table notebook</a>'\n",
              "            + ' to learn more about interactive tables.';\n",
              "          element.innerHTML = '';\n",
              "          dataTable['output_type'] = 'display_data';\n",
              "          await google.colab.output.renderOutput(dataTable, element);\n",
              "          const docLink = document.createElement('div');\n",
              "          docLink.innerHTML = docLinkHtml;\n",
              "          element.appendChild(docLink);\n",
              "        }\n",
              "      </script>\n",
              "    </div>\n",
              "  </div>\n",
              "  "
            ]
          },
          "metadata": {},
          "execution_count": 26
        }
      ]
    },
    {
      "cell_type": "code",
      "source": [
        "qdf = qdf.get(\"query\")"
      ],
      "metadata": {
        "id": "4TqLCvr6HYcz"
      },
      "execution_count": null,
      "outputs": []
    },
    {
      "cell_type": "markdown",
      "source": [
        "preprocessing queries"
      ],
      "metadata": {
        "id": "80pY7WgGzjFg"
      }
    },
    {
      "cell_type": "code",
      "source": [
        "\n",
        "qdf = qdf.apply(lambda x: normalizer.character_refinement(normalizer.affix_spacing(str(x))))\n",
        "\n",
        "qdf = qdf.apply(lambda x: normalizer.character_refinement(normalizer.affix_spacing(str(x))))\n",
        "\n",
        "word_tokenize = hazm.word_tokenize\n",
        "token_qdf = pd.DataFrame()\n",
        "token_qdf['tokens'] =qdf.apply(lambda x: word_tokenize(x))\n",
        "\n",
        "token_qdf['without-stop-word'] = token_qdf['tokens'].apply(lambda x: remove_stopwords(x))\n",
        "\n",
        "token_qdf['stemmed'] = token_qdf['without-stop-word'].apply(lambda x: stem(x))\n",
        "\n",
        "token_qdf"
      ],
      "metadata": {
        "colab": {
          "base_uri": "https://localhost:8080/",
          "height": 363
        },
        "id": "_MEO7VqX13tI",
        "outputId": "ea7cde8f-99eb-461a-acdf-585ae1c2d216"
      },
      "execution_count": null,
      "outputs": [
        {
          "output_type": "execute_result",
          "data": {
            "text/plain": [
              "                                              tokens  \\\n",
              "0  [معناهای, فلسفی, و, جامعه, شناسی, جهانبینی, و,...   \n",
              "1  [پادشاه, بینی, دراز, اثر, داینا, مالک, و, پادش...   \n",
              "2  [انقلاب, سفید, یا, انقلاب, شاه, و, مردم, نام, ...   \n",
              "3  [اسپهبد, مرزبان, بن, رستم, بن, شهریار, بن, شرو...   \n",
              "4  [پل, کندی, مورخ, نامدار, انگلیسی, و, استاد, دا...   \n",
              "5  [بنیانگذار, مکتب, هیوهو, نیتن, ایچی, ریو, و, ن...   \n",
              "6  [او, ۲۶, کتاب, مختلف, نوشته‌است, که, به, ۲۰, ز...   \n",
              "7  [هری, پاتر, و, تالار, اسرار, دومین, رمان, از, ...   \n",
              "8  [املت, و, کوکو, –, ماست, و, دوغ, –, غذاهای, سب...   \n",
              "9          [شوهر, آهوخانم, نوشته, علی, محمد, افغانی]   \n",
              "\n",
              "                                   without-stop-word  \\\n",
              "0  [معناهای, فلسفی, جامعه, شناسی, جهانبینی, ایدئو...   \n",
              "1  [پادشاه, بینی, دراز, داینا, مالک, پادشاه, زرین...   \n",
              "2  [انقلاب, سفید, انقلاب, شاه, مردم, نام, سلسله, ...   \n",
              "3  [اسپهبد, مرزبان, بن, رستم, بن, شهریار, بن, شرو...   \n",
              "4  [پل, کندی, مورخ, نامدار, انگلیسی, استاد, دانشگ...   \n",
              "5  [بنیانگذار, مکتب, هیوهو, نیتن, ایچی, ریو, نویس...   \n",
              "6  [۲۶, کتاب, مختلف, نوشته‌است, ۲۰, زبان, زنده, د...   \n",
              "7  [هری, پاتر, تالار, اسرار, دومین, رمان, سری, رم...   \n",
              "8  [املت, کوکو, –, ماست, دوغ, –, غذاهای, سبک, –, ...   \n",
              "9          [شوهر, آهوخانم, نوشته, علی, محمد, افغانی]   \n",
              "\n",
              "                                             stemmed  \n",
              "0  [معنا, فلسف, جامعه, شناس, جهانبین, ایدئولوژ, د...  \n",
              "1  [پادشاه, بین, دراز, داینا, مالک, پادشاه, زرین,...  \n",
              "2  [انقلاب, سفید, انقلاب, شاه, مرد, نا, سلسله, تغ...  \n",
              "3  [اسپهبد, مرزب, بن, رس, بن, شهریار, بن, شروین, ...  \n",
              "4  [پل, کند, مورخ, نامدار, انگلیس, استاد, دانشگاه...  \n",
              "5  [بنیانگذار, مکتب, هیوهو, نیتن, ایچ, ریو, نویسن...  \n",
              "6  [۲۶, کتاب, مختلف, نوشته‌اس, ۲۰, زب, زنده, دنیا...  \n",
              "7  [هر, پا, تالار, اسرار, دومین, ر, سر, رمان, هر,...  \n",
              "8  [امل, کوکو, –, ماس, دوغ, –, غذا, سبک, –, سوپ, ...  \n",
              "9             [شوهر, آهوخان, نوشته, عل, محمد, افغان]  "
            ],
            "text/html": [
              "\n",
              "  <div id=\"df-93bdcbab-a7fd-4217-baa9-31cd47f279f2\">\n",
              "    <div class=\"colab-df-container\">\n",
              "      <div>\n",
              "<style scoped>\n",
              "    .dataframe tbody tr th:only-of-type {\n",
              "        vertical-align: middle;\n",
              "    }\n",
              "\n",
              "    .dataframe tbody tr th {\n",
              "        vertical-align: top;\n",
              "    }\n",
              "\n",
              "    .dataframe thead th {\n",
              "        text-align: right;\n",
              "    }\n",
              "</style>\n",
              "<table border=\"1\" class=\"dataframe\">\n",
              "  <thead>\n",
              "    <tr style=\"text-align: right;\">\n",
              "      <th></th>\n",
              "      <th>tokens</th>\n",
              "      <th>without-stop-word</th>\n",
              "      <th>stemmed</th>\n",
              "    </tr>\n",
              "  </thead>\n",
              "  <tbody>\n",
              "    <tr>\n",
              "      <th>0</th>\n",
              "      <td>[معناهای, فلسفی, و, جامعه, شناسی, جهانبینی, و,...</td>\n",
              "      <td>[معناهای, فلسفی, جامعه, شناسی, جهانبینی, ایدئو...</td>\n",
              "      <td>[معنا, فلسف, جامعه, شناس, جهانبین, ایدئولوژ, د...</td>\n",
              "    </tr>\n",
              "    <tr>\n",
              "      <th>1</th>\n",
              "      <td>[پادشاه, بینی, دراز, اثر, داینا, مالک, و, پادش...</td>\n",
              "      <td>[پادشاه, بینی, دراز, داینا, مالک, پادشاه, زرین...</td>\n",
              "      <td>[پادشاه, بین, دراز, داینا, مالک, پادشاه, زرین,...</td>\n",
              "    </tr>\n",
              "    <tr>\n",
              "      <th>2</th>\n",
              "      <td>[انقلاب, سفید, یا, انقلاب, شاه, و, مردم, نام, ...</td>\n",
              "      <td>[انقلاب, سفید, انقلاب, شاه, مردم, نام, سلسله, ...</td>\n",
              "      <td>[انقلاب, سفید, انقلاب, شاه, مرد, نا, سلسله, تغ...</td>\n",
              "    </tr>\n",
              "    <tr>\n",
              "      <th>3</th>\n",
              "      <td>[اسپهبد, مرزبان, بن, رستم, بن, شهریار, بن, شرو...</td>\n",
              "      <td>[اسپهبد, مرزبان, بن, رستم, بن, شهریار, بن, شرو...</td>\n",
              "      <td>[اسپهبد, مرزب, بن, رس, بن, شهریار, بن, شروین, ...</td>\n",
              "    </tr>\n",
              "    <tr>\n",
              "      <th>4</th>\n",
              "      <td>[پل, کندی, مورخ, نامدار, انگلیسی, و, استاد, دا...</td>\n",
              "      <td>[پل, کندی, مورخ, نامدار, انگلیسی, استاد, دانشگ...</td>\n",
              "      <td>[پل, کند, مورخ, نامدار, انگلیس, استاد, دانشگاه...</td>\n",
              "    </tr>\n",
              "    <tr>\n",
              "      <th>5</th>\n",
              "      <td>[بنیانگذار, مکتب, هیوهو, نیتن, ایچی, ریو, و, ن...</td>\n",
              "      <td>[بنیانگذار, مکتب, هیوهو, نیتن, ایچی, ریو, نویس...</td>\n",
              "      <td>[بنیانگذار, مکتب, هیوهو, نیتن, ایچ, ریو, نویسن...</td>\n",
              "    </tr>\n",
              "    <tr>\n",
              "      <th>6</th>\n",
              "      <td>[او, ۲۶, کتاب, مختلف, نوشته‌است, که, به, ۲۰, ز...</td>\n",
              "      <td>[۲۶, کتاب, مختلف, نوشته‌است, ۲۰, زبان, زنده, د...</td>\n",
              "      <td>[۲۶, کتاب, مختلف, نوشته‌اس, ۲۰, زب, زنده, دنیا...</td>\n",
              "    </tr>\n",
              "    <tr>\n",
              "      <th>7</th>\n",
              "      <td>[هری, پاتر, و, تالار, اسرار, دومین, رمان, از, ...</td>\n",
              "      <td>[هری, پاتر, تالار, اسرار, دومین, رمان, سری, رم...</td>\n",
              "      <td>[هر, پا, تالار, اسرار, دومین, ر, سر, رمان, هر,...</td>\n",
              "    </tr>\n",
              "    <tr>\n",
              "      <th>8</th>\n",
              "      <td>[املت, و, کوکو, –, ماست, و, دوغ, –, غذاهای, سب...</td>\n",
              "      <td>[املت, کوکو, –, ماست, دوغ, –, غذاهای, سبک, –, ...</td>\n",
              "      <td>[امل, کوکو, –, ماس, دوغ, –, غذا, سبک, –, سوپ, ...</td>\n",
              "    </tr>\n",
              "    <tr>\n",
              "      <th>9</th>\n",
              "      <td>[شوهر, آهوخانم, نوشته, علی, محمد, افغانی]</td>\n",
              "      <td>[شوهر, آهوخانم, نوشته, علی, محمد, افغانی]</td>\n",
              "      <td>[شوهر, آهوخان, نوشته, عل, محمد, افغان]</td>\n",
              "    </tr>\n",
              "  </tbody>\n",
              "</table>\n",
              "</div>\n",
              "      <button class=\"colab-df-convert\" onclick=\"convertToInteractive('df-93bdcbab-a7fd-4217-baa9-31cd47f279f2')\"\n",
              "              title=\"Convert this dataframe to an interactive table.\"\n",
              "              style=\"display:none;\">\n",
              "        \n",
              "  <svg xmlns=\"http://www.w3.org/2000/svg\" height=\"24px\"viewBox=\"0 0 24 24\"\n",
              "       width=\"24px\">\n",
              "    <path d=\"M0 0h24v24H0V0z\" fill=\"none\"/>\n",
              "    <path d=\"M18.56 5.44l.94 2.06.94-2.06 2.06-.94-2.06-.94-.94-2.06-.94 2.06-2.06.94zm-11 1L8.5 8.5l.94-2.06 2.06-.94-2.06-.94L8.5 2.5l-.94 2.06-2.06.94zm10 10l.94 2.06.94-2.06 2.06-.94-2.06-.94-.94-2.06-.94 2.06-2.06.94z\"/><path d=\"M17.41 7.96l-1.37-1.37c-.4-.4-.92-.59-1.43-.59-.52 0-1.04.2-1.43.59L10.3 9.45l-7.72 7.72c-.78.78-.78 2.05 0 2.83L4 21.41c.39.39.9.59 1.41.59.51 0 1.02-.2 1.41-.59l7.78-7.78 2.81-2.81c.8-.78.8-2.07 0-2.86zM5.41 20L4 18.59l7.72-7.72 1.47 1.35L5.41 20z\"/>\n",
              "  </svg>\n",
              "      </button>\n",
              "      \n",
              "  <style>\n",
              "    .colab-df-container {\n",
              "      display:flex;\n",
              "      flex-wrap:wrap;\n",
              "      gap: 12px;\n",
              "    }\n",
              "\n",
              "    .colab-df-convert {\n",
              "      background-color: #E8F0FE;\n",
              "      border: none;\n",
              "      border-radius: 50%;\n",
              "      cursor: pointer;\n",
              "      display: none;\n",
              "      fill: #1967D2;\n",
              "      height: 32px;\n",
              "      padding: 0 0 0 0;\n",
              "      width: 32px;\n",
              "    }\n",
              "\n",
              "    .colab-df-convert:hover {\n",
              "      background-color: #E2EBFA;\n",
              "      box-shadow: 0px 1px 2px rgba(60, 64, 67, 0.3), 0px 1px 3px 1px rgba(60, 64, 67, 0.15);\n",
              "      fill: #174EA6;\n",
              "    }\n",
              "\n",
              "    [theme=dark] .colab-df-convert {\n",
              "      background-color: #3B4455;\n",
              "      fill: #D2E3FC;\n",
              "    }\n",
              "\n",
              "    [theme=dark] .colab-df-convert:hover {\n",
              "      background-color: #434B5C;\n",
              "      box-shadow: 0px 1px 3px 1px rgba(0, 0, 0, 0.15);\n",
              "      filter: drop-shadow(0px 1px 2px rgba(0, 0, 0, 0.3));\n",
              "      fill: #FFFFFF;\n",
              "    }\n",
              "  </style>\n",
              "\n",
              "      <script>\n",
              "        const buttonEl =\n",
              "          document.querySelector('#df-93bdcbab-a7fd-4217-baa9-31cd47f279f2 button.colab-df-convert');\n",
              "        buttonEl.style.display =\n",
              "          google.colab.kernel.accessAllowed ? 'block' : 'none';\n",
              "\n",
              "        async function convertToInteractive(key) {\n",
              "          const element = document.querySelector('#df-93bdcbab-a7fd-4217-baa9-31cd47f279f2');\n",
              "          const dataTable =\n",
              "            await google.colab.kernel.invokeFunction('convertToInteractive',\n",
              "                                                     [key], {});\n",
              "          if (!dataTable) return;\n",
              "\n",
              "          const docLinkHtml = 'Like what you see? Visit the ' +\n",
              "            '<a target=\"_blank\" href=https://colab.research.google.com/notebooks/data_table.ipynb>data table notebook</a>'\n",
              "            + ' to learn more about interactive tables.';\n",
              "          element.innerHTML = '';\n",
              "          dataTable['output_type'] = 'display_data';\n",
              "          await google.colab.output.renderOutput(dataTable, element);\n",
              "          const docLink = document.createElement('div');\n",
              "          docLink.innerHTML = docLinkHtml;\n",
              "          element.appendChild(docLink);\n",
              "        }\n",
              "      </script>\n",
              "    </div>\n",
              "  </div>\n",
              "  "
            ]
          },
          "metadata": {},
          "execution_count": 28
        }
      ]
    },
    {
      "cell_type": "markdown",
      "source": [
        "calculating tf_idf weights for query tokens"
      ],
      "metadata": {
        "id": "xx6FIPha_N7e"
      }
    },
    {
      "cell_type": "code",
      "source": [
        "qtok = token_qdf.get('stemmed').tolist()\n",
        "\n",
        "qtfidf_dict = {}\n",
        "\n",
        "for key in idf_dict.keys():\n",
        "  for query in qtok:\n",
        "    qtf = query.count(key)\n",
        "    qindex = qtok.index(query)\n",
        "    if qtf != 0:\n",
        "      qtf = 1 + math.log10(qtf)\n",
        "    qtf_idf = qtf * idf_dict[key]\n",
        "    if qindex not in qtfidf_dict.keys():\n",
        "      qtfidf_dict[qindex] = [qtf,]\n",
        "    else:\n",
        "      qtfidf_dict[qindex].append(qtf)\n",
        "\n",
        "# qtfidf_dict contains tf_idf weights for all the tokens. Keys are query_indx and \n",
        "# values are vectors of the queries."
      ],
      "metadata": {
        "id": "sXb982Ah_IgJ"
      },
      "execution_count": null,
      "outputs": []
    },
    {
      "cell_type": "markdown",
      "source": [
        "# Cosine Similarity"
      ],
      "metadata": {
        "id": "YfVG_Kk_ikXq"
      }
    },
    {
      "cell_type": "code",
      "source": [
        "import numpy as np\n",
        "from scipy import spatial\n",
        "import itertools\n",
        "import json\n",
        "\n",
        "topTenQueryResult = {}\n",
        "for qindex, query in qtfidf_dict.items():\n",
        "  result = {}\n",
        "  for dindex, doc in tf_dict.items():\n",
        "    if len(tf_dict[dindex]) == 24688:\n",
        "      CosineSimilarity = 1 - spatial.distance.cosine(doc, query)\n",
        "      result[dindex] = CosineSimilarity\n",
        "  result = sorted(result.items(), key=lambda item: item[1], reverse=True)\n",
        "  result = {k: v for k, v in result}\n",
        "  filename = '/content/drive/MyDrive/queries/Query-{}.json'.format(qindex)\n",
        "  with open(filename, \"w\") as outfile:\n",
        "    ttq = dict(itertools.islice(result.items(), 0,10))\n",
        "    ttq = sorted(ttq.items(), key=lambda item: item[1], reverse=True)\n",
        "    ttq = {k: v for k, v in ttq}\n",
        "    json.dump(ttq, outfile)"
      ],
      "metadata": {
        "id": "KgH8xTNtikAA"
      },
      "execution_count": null,
      "outputs": []
    },
    {
      "cell_type": "code",
      "source": [
        ""
      ],
      "metadata": {
        "id": "H9M1zRi0NwVa"
      },
      "execution_count": null,
      "outputs": []
    }
  ],
  "metadata": {
    "colab": {
      "collapsed_sections": [],
      "name": "IR-HW.ipynb",
      "provenance": []
    },
    "kernelspec": {
      "display_name": "Python 3",
      "name": "python3"
    },
    "language_info": {
      "name": "python"
    },
    "accelerator": "GPU"
  },
  "nbformat": 4,
  "nbformat_minor": 0
}